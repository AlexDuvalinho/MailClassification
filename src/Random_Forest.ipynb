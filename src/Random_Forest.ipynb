{
 "cells": [
  {
   "cell_type": "markdown",
   "metadata": {},
   "source": [
    "# Random Forest code\n"
   ]
  },
  {
   "cell_type": "code",
   "execution_count": 67,
   "metadata": {},
   "outputs": [],
   "source": [
    "import pandas as pd\n",
    "import numpy as np\n",
    "from sklearn.ensemble import RandomForestClassifier\n",
    "from sklearn.metrics import f1_score\n",
    "from sklearn.model_selection import ShuffleSplit\n",
    "from sklearn.model_selection import cross_val_score\n",
    "from sklearn.preprocessing import StandardScaler\n",
    "from sklearn.decomposition import PCA\n",
    "from sklearn import metrics\n",
    "import warnings\n",
    "#import plotly.graph_objs as go #visualization\n",
    "import matplotlib.pyplot as plt#visualization\n",
    "import seaborn as sns #visualization\n",
    "#import plotly.offline as py #visualization\n",
    "#import plotly.tools as tls #visualization\n",
    "#import plotly.figure_factory as ff #visualization\n",
    "\n",
    "from sklearn.metrics import accuracy_score"
   ]
  },
  {
   "cell_type": "code",
   "execution_count": 68,
   "metadata": {},
   "outputs": [
    {
     "name": "stdout",
     "output_type": "stream",
     "text": [
      "(24840, 235)\n",
      "(24840,)\n"
     ]
    },
    {
     "data": {
      "text/html": [
       "<div>\n",
       "<style scoped>\n",
       "    .dataframe tbody tr th:only-of-type {\n",
       "        vertical-align: middle;\n",
       "    }\n",
       "\n",
       "    .dataframe tbody tr th {\n",
       "        vertical-align: top;\n",
       "    }\n",
       "\n",
       "    .dataframe thead th {\n",
       "        text-align: right;\n",
       "    }\n",
       "</style>\n",
       "<table border=\"1\" class=\"dataframe\">\n",
       "  <thead>\n",
       "    <tr style=\"text-align: right;\">\n",
       "      <th></th>\n",
       "      <th>Cat_Friday</th>\n",
       "      <th>Cat_FridayCat_Hour_bucket_0</th>\n",
       "      <th>Cat_FridayCat_Hour_bucket_1</th>\n",
       "      <th>Cat_FridayCat_Hour_bucket_2</th>\n",
       "      <th>Cat_FridayCat_Hour_bucket_3</th>\n",
       "      <th>Cat_Hour_bucket_0</th>\n",
       "      <th>Cat_Hour_bucket_1</th>\n",
       "      <th>Cat_Hour_bucket_2</th>\n",
       "      <th>Cat_Hour_bucket_3</th>\n",
       "      <th>Cat_MailType_multipart/alternative</th>\n",
       "      <th>...</th>\n",
       "      <th>sender_chars_in_subject_std</th>\n",
       "      <th>sender_count</th>\n",
       "      <th>sender_depth</th>\n",
       "      <th>sender_images_mean</th>\n",
       "      <th>sender_images_std</th>\n",
       "      <th>sender_urls_mean</th>\n",
       "      <th>sender_urls_std</th>\n",
       "      <th>timezone_2</th>\n",
       "      <th>urls</th>\n",
       "      <th>urls_2</th>\n",
       "    </tr>\n",
       "  </thead>\n",
       "  <tbody>\n",
       "    <tr>\n",
       "      <th>0</th>\n",
       "      <td>0</td>\n",
       "      <td>0</td>\n",
       "      <td>0</td>\n",
       "      <td>0</td>\n",
       "      <td>0</td>\n",
       "      <td>1</td>\n",
       "      <td>0</td>\n",
       "      <td>0</td>\n",
       "      <td>0</td>\n",
       "      <td>0</td>\n",
       "      <td>...</td>\n",
       "      <td>25.912548</td>\n",
       "      <td>1676.0</td>\n",
       "      <td>1</td>\n",
       "      <td>9.502387</td>\n",
       "      <td>11.356555</td>\n",
       "      <td>79.059069</td>\n",
       "      <td>81.329729</td>\n",
       "      <td>0.00</td>\n",
       "      <td>0</td>\n",
       "      <td>0</td>\n",
       "    </tr>\n",
       "    <tr>\n",
       "      <th>1</th>\n",
       "      <td>0</td>\n",
       "      <td>0</td>\n",
       "      <td>0</td>\n",
       "      <td>0</td>\n",
       "      <td>0</td>\n",
       "      <td>0</td>\n",
       "      <td>1</td>\n",
       "      <td>0</td>\n",
       "      <td>0</td>\n",
       "      <td>1</td>\n",
       "      <td>...</td>\n",
       "      <td>26.823572</td>\n",
       "      <td>1285.0</td>\n",
       "      <td>2</td>\n",
       "      <td>12.677821</td>\n",
       "      <td>12.469546</td>\n",
       "      <td>54.352529</td>\n",
       "      <td>39.501797</td>\n",
       "      <td>0.00</td>\n",
       "      <td>44</td>\n",
       "      <td>1936</td>\n",
       "    </tr>\n",
       "    <tr>\n",
       "      <th>2</th>\n",
       "      <td>0</td>\n",
       "      <td>0</td>\n",
       "      <td>0</td>\n",
       "      <td>0</td>\n",
       "      <td>0</td>\n",
       "      <td>1</td>\n",
       "      <td>0</td>\n",
       "      <td>0</td>\n",
       "      <td>0</td>\n",
       "      <td>1</td>\n",
       "      <td>...</td>\n",
       "      <td>37.100218</td>\n",
       "      <td>1241.0</td>\n",
       "      <td>0</td>\n",
       "      <td>7.725222</td>\n",
       "      <td>5.541580</td>\n",
       "      <td>84.025786</td>\n",
       "      <td>39.562621</td>\n",
       "      <td>64.00</td>\n",
       "      <td>110</td>\n",
       "      <td>12100</td>\n",
       "    </tr>\n",
       "    <tr>\n",
       "      <th>3</th>\n",
       "      <td>0</td>\n",
       "      <td>0</td>\n",
       "      <td>0</td>\n",
       "      <td>0</td>\n",
       "      <td>0</td>\n",
       "      <td>0</td>\n",
       "      <td>0</td>\n",
       "      <td>1</td>\n",
       "      <td>0</td>\n",
       "      <td>1</td>\n",
       "      <td>...</td>\n",
       "      <td>26.440099</td>\n",
       "      <td>6313.0</td>\n",
       "      <td>4</td>\n",
       "      <td>0.442737</td>\n",
       "      <td>3.459240</td>\n",
       "      <td>7.043561</td>\n",
       "      <td>76.700633</td>\n",
       "      <td>30.25</td>\n",
       "      <td>0</td>\n",
       "      <td>0</td>\n",
       "    </tr>\n",
       "    <tr>\n",
       "      <th>4</th>\n",
       "      <td>0</td>\n",
       "      <td>0</td>\n",
       "      <td>0</td>\n",
       "      <td>0</td>\n",
       "      <td>0</td>\n",
       "      <td>0</td>\n",
       "      <td>1</td>\n",
       "      <td>0</td>\n",
       "      <td>0</td>\n",
       "      <td>1</td>\n",
       "      <td>...</td>\n",
       "      <td>21.377212</td>\n",
       "      <td>47.0</td>\n",
       "      <td>1</td>\n",
       "      <td>16.680851</td>\n",
       "      <td>9.923854</td>\n",
       "      <td>99.234043</td>\n",
       "      <td>53.804482</td>\n",
       "      <td>0.00</td>\n",
       "      <td>49</td>\n",
       "      <td>2401</td>\n",
       "    </tr>\n",
       "  </tbody>\n",
       "</table>\n",
       "<p>5 rows × 235 columns</p>\n",
       "</div>"
      ],
      "text/plain": [
       "   Cat_Friday  Cat_FridayCat_Hour_bucket_0  Cat_FridayCat_Hour_bucket_1  \\\n",
       "0           0                            0                            0   \n",
       "1           0                            0                            0   \n",
       "2           0                            0                            0   \n",
       "3           0                            0                            0   \n",
       "4           0                            0                            0   \n",
       "\n",
       "   Cat_FridayCat_Hour_bucket_2  Cat_FridayCat_Hour_bucket_3  \\\n",
       "0                            0                            0   \n",
       "1                            0                            0   \n",
       "2                            0                            0   \n",
       "3                            0                            0   \n",
       "4                            0                            0   \n",
       "\n",
       "   Cat_Hour_bucket_0  Cat_Hour_bucket_1  Cat_Hour_bucket_2  Cat_Hour_bucket_3  \\\n",
       "0                  1                  0                  0                  0   \n",
       "1                  0                  1                  0                  0   \n",
       "2                  1                  0                  0                  0   \n",
       "3                  0                  0                  1                  0   \n",
       "4                  0                  1                  0                  0   \n",
       "\n",
       "   Cat_MailType_multipart/alternative  ...  sender_chars_in_subject_std  \\\n",
       "0                                   0  ...                    25.912548   \n",
       "1                                   1  ...                    26.823572   \n",
       "2                                   1  ...                    37.100218   \n",
       "3                                   1  ...                    26.440099   \n",
       "4                                   1  ...                    21.377212   \n",
       "\n",
       "   sender_count  sender_depth  sender_images_mean  sender_images_std  \\\n",
       "0        1676.0             1            9.502387          11.356555   \n",
       "1        1285.0             2           12.677821          12.469546   \n",
       "2        1241.0             0            7.725222           5.541580   \n",
       "3        6313.0             4            0.442737           3.459240   \n",
       "4          47.0             1           16.680851           9.923854   \n",
       "\n",
       "   sender_urls_mean  sender_urls_std  timezone_2  urls  urls_2  \n",
       "0         79.059069        81.329729        0.00     0       0  \n",
       "1         54.352529        39.501797        0.00    44    1936  \n",
       "2         84.025786        39.562621       64.00   110   12100  \n",
       "3          7.043561        76.700633       30.25     0       0  \n",
       "4         99.234043        53.804482        0.00    49    2401  \n",
       "\n",
       "[5 rows x 235 columns]"
      ]
     },
     "execution_count": 68,
     "metadata": {},
     "output_type": "execute_result"
    }
   ],
   "source": [
    "#read train data\n",
    "train = pd.read_csv('../data/generated/train_eng9.csv')\n",
    "test = pd.read_csv('../data/generated/test_eng9.csv')\n",
    "\n",
    "#extract labels\n",
    "train_y = train['label']\n",
    "#remove labels from train\n",
    "train.drop(columns=['label'], inplace=True)\n",
    "\n",
    "print(train.values.shape)\n",
    "print(train_y.values.shape)\n",
    "train.head(5)"
   ]
  },
  {
   "cell_type": "markdown",
   "metadata": {},
   "source": [
    "Build a normalize that will apply standard scaler and PCA if required"
   ]
  },
  {
   "cell_type": "code",
   "execution_count": 69,
   "metadata": {},
   "outputs": [],
   "source": [
    "def NormalizeData(train, CVorTest, PCA_comp = None, ScaleCat = False):\n",
    "    '''\n",
    "    Normalize data using a standard scaler\n",
    "    train:\n",
    "        dataframe that will be use to fit and transformed by the scaler and PCA\n",
    "    CVorTest:\n",
    "        dataframe that will be transformed the scaler and PCA\n",
    "    PCA_comp:\n",
    "        Number of PCA components to keep, if None, PCA not applied\n",
    "    ScaleCat:\n",
    "        Scale or not the categorical columns with the standard scaler\n",
    "    '''\n",
    "    \n",
    "    sc = StandardScaler()\n",
    "    \n",
    "    if ScaleCat:\n",
    "        scale_columns = train.columns\n",
    "    else:\n",
    "        scale_columns = [col for col in train.columns[~train.columns.str.startswith('Cat_')]]\n",
    "          \n",
    "    #perform feature scaling    \n",
    "    print('Nb columns to scale :', len(scale_columns))\n",
    "    train.loc[:, scale_columns] = sc.fit_transform(train.loc[:, scale_columns]) \n",
    "    CVorTest.loc[:, scale_columns] = sc.transform(CVorTest.loc[:, scale_columns]) \n",
    "    \n",
    "    if PCA_comp is None:\n",
    "        return train.values, CVorTest.values\n",
    "    \n",
    "    pca = PCA(PCA_comp)\n",
    "    train = pca.fit_transform(train)\n",
    "    CVorTest = pca.transform(CVorTest)\n",
    "    \n",
    "    return train, CVorTest"
   ]
  },
  {
   "cell_type": "code",
   "execution_count": 70,
   "metadata": {},
   "outputs": [
    {
     "name": "stdout",
     "output_type": "stream",
     "text": [
      "Nb columns to scale : 138\n"
     ]
    }
   ],
   "source": [
    "#Normalize Data\n",
    "train, test = NormalizeData(train, test, None, False)"
   ]
  },
  {
   "cell_type": "code",
   "execution_count": 21,
   "metadata": {},
   "outputs": [
    {
     "data": {
      "text/plain": [
       "0.9650400619608938"
      ]
     },
     "execution_count": 21,
     "metadata": {},
     "output_type": "execute_result"
    }
   ],
   "source": [
    "#Perfrom Random Forest\n",
    "n_samples = train.shape[0]\n",
    "neigh = RandomForestClassifier(min_samples_split= 2, n_estimators=900, max_depth= 300, random_state=0, criterion = 'gini', bootstrap= False, warm_start= True, class_weight= None)\n",
    "neigh.fit(train, train_y)\n",
    "pred_y = neigh.predict(test)\n",
    "\n",
    "#Do Cross Validation\n",
    "cv = ShuffleSplit(n_splits=5, test_size=0.2, random_state=0)\n",
    "RF_model = cross_val_score(neigh, train, train_y, cv=cv, scoring='f1_macro')  \n",
    "RF_model.mean()"
   ]
  },
  {
   "cell_type": "code",
   "execution_count": 29,
   "metadata": {},
   "outputs": [
    {
     "name": "stderr",
     "output_type": "stream",
     "text": [
      "/Users/philibert/anaconda3/lib/python3.7/site-packages/sklearn/metrics/classification.py:1437: UndefinedMetricWarning: F-score is ill-defined and being set to 0.0 in labels with no predicted samples.\n",
      "  'precision', 'predicted', average, warn_for)\n",
      "/Users/philibert/anaconda3/lib/python3.7/site-packages/sklearn/metrics/classification.py:1437: UndefinedMetricWarning: F-score is ill-defined and being set to 0.0 in labels with no predicted samples.\n",
      "  'precision', 'predicted', average, warn_for)\n",
      "/Users/philibert/anaconda3/lib/python3.7/site-packages/sklearn/metrics/classification.py:1437: UndefinedMetricWarning: F-score is ill-defined and being set to 0.0 in labels with no predicted samples.\n",
      "  'precision', 'predicted', average, warn_for)\n",
      "/Users/philibert/anaconda3/lib/python3.7/site-packages/sklearn/metrics/classification.py:1437: UndefinedMetricWarning: F-score is ill-defined and being set to 0.0 in labels with no predicted samples.\n",
      "  'precision', 'predicted', average, warn_for)\n",
      "/Users/philibert/anaconda3/lib/python3.7/site-packages/sklearn/metrics/classification.py:1437: UndefinedMetricWarning: F-score is ill-defined and being set to 0.0 in labels with no predicted samples.\n",
      "  'precision', 'predicted', average, warn_for)\n",
      "/Users/philibert/anaconda3/lib/python3.7/site-packages/sklearn/metrics/classification.py:1437: UndefinedMetricWarning: F-score is ill-defined and being set to 0.0 in labels with no predicted samples.\n",
      "  'precision', 'predicted', average, warn_for)\n",
      "/Users/philibert/anaconda3/lib/python3.7/site-packages/sklearn/metrics/classification.py:1437: UndefinedMetricWarning: F-score is ill-defined and being set to 0.0 in labels with no predicted samples.\n",
      "  'precision', 'predicted', average, warn_for)\n",
      "/Users/philibert/anaconda3/lib/python3.7/site-packages/sklearn/metrics/classification.py:1437: UndefinedMetricWarning: F-score is ill-defined and being set to 0.0 in labels with no predicted samples.\n",
      "  'precision', 'predicted', average, warn_for)\n",
      "/Users/philibert/anaconda3/lib/python3.7/site-packages/sklearn/metrics/classification.py:1437: UndefinedMetricWarning: F-score is ill-defined and being set to 0.0 in labels with no predicted samples.\n",
      "  'precision', 'predicted', average, warn_for)\n",
      "/Users/philibert/anaconda3/lib/python3.7/site-packages/sklearn/metrics/classification.py:1437: UndefinedMetricWarning: F-score is ill-defined and being set to 0.0 in labels with no predicted samples.\n",
      "  'precision', 'predicted', average, warn_for)\n",
      "/Users/philibert/anaconda3/lib/python3.7/site-packages/sklearn/metrics/classification.py:1437: UndefinedMetricWarning: F-score is ill-defined and being set to 0.0 in labels with no predicted samples.\n",
      "  'precision', 'predicted', average, warn_for)\n",
      "/Users/philibert/anaconda3/lib/python3.7/site-packages/sklearn/metrics/classification.py:1437: UndefinedMetricWarning: F-score is ill-defined and being set to 0.0 in labels with no predicted samples.\n",
      "  'precision', 'predicted', average, warn_for)\n",
      "/Users/philibert/anaconda3/lib/python3.7/site-packages/sklearn/metrics/classification.py:1437: UndefinedMetricWarning: F-score is ill-defined and being set to 0.0 in labels with no predicted samples.\n",
      "  'precision', 'predicted', average, warn_for)\n",
      "/Users/philibert/anaconda3/lib/python3.7/site-packages/sklearn/metrics/classification.py:1437: UndefinedMetricWarning: F-score is ill-defined and being set to 0.0 in labels with no predicted samples.\n",
      "  'precision', 'predicted', average, warn_for)\n",
      "/Users/philibert/anaconda3/lib/python3.7/site-packages/sklearn/metrics/classification.py:1437: UndefinedMetricWarning: F-score is ill-defined and being set to 0.0 in labels with no predicted samples.\n",
      "  'precision', 'predicted', average, warn_for)\n",
      "/Users/philibert/anaconda3/lib/python3.7/site-packages/sklearn/metrics/classification.py:1437: UndefinedMetricWarning: F-score is ill-defined and being set to 0.0 in labels with no predicted samples.\n",
      "  'precision', 'predicted', average, warn_for)\n",
      "/Users/philibert/anaconda3/lib/python3.7/site-packages/sklearn/metrics/classification.py:1437: UndefinedMetricWarning: F-score is ill-defined and being set to 0.0 in labels with no predicted samples.\n",
      "  'precision', 'predicted', average, warn_for)\n",
      "/Users/philibert/anaconda3/lib/python3.7/site-packages/sklearn/metrics/classification.py:1437: UndefinedMetricWarning: F-score is ill-defined and being set to 0.0 in labels with no predicted samples.\n",
      "  'precision', 'predicted', average, warn_for)\n",
      "/Users/philibert/anaconda3/lib/python3.7/site-packages/sklearn/metrics/classification.py:1437: UndefinedMetricWarning: F-score is ill-defined and being set to 0.0 in labels with no predicted samples.\n",
      "  'precision', 'predicted', average, warn_for)\n",
      "/Users/philibert/anaconda3/lib/python3.7/site-packages/sklearn/metrics/classification.py:1437: UndefinedMetricWarning: F-score is ill-defined and being set to 0.0 in labels with no predicted samples.\n",
      "  'precision', 'predicted', average, warn_for)\n"
     ]
    },
    {
     "name": "stdout",
     "output_type": "stream",
     "text": [
      "0.9635222093157081 {'max_depth': 300, 'n_estimators': 900}\n"
     ]
    }
   ],
   "source": [
    "# Parameter tuning\n",
    "# Applying Grid Search CV to find the best model and the best parameters\n",
    "from sklearn.model_selection import GridSearchCV\n",
    "parameters = [{'n_estimators':[10, 900], 'max_depth':[1, 300]}] \n",
    "grid_search = GridSearchCV(estimator = neigh,\n",
    "                          param_grid = parameters,\n",
    "                          scoring = 'f1_macro',\n",
    "                          cv = cv)\n",
    "grid_search = grid_search.fit(train, train_y)\n",
    "best_accuracy = grid_search.best_score_\n",
    "best_parameters = grid_search.best_params_\n",
    "print(best_accuracy, best_parameters)"
   ]
  },
  {
   "cell_type": "code",
   "execution_count": 6,
   "metadata": {},
   "outputs": [
    {
     "data": {
      "text/plain": [
       "(10647,)"
      ]
     },
     "execution_count": 6,
     "metadata": {},
     "output_type": "execute_result"
    }
   ],
   "source": [
    "## Save results to submission file\n",
    "pred_df = pd.DataFrame(pred_y, columns=['label'])\n",
    "pred_df.to_csv(\"RF__submission.csv\", index=True, index_label='Id')\n",
    "pred_y.shape"
   ]
  },
  {
   "cell_type": "markdown",
   "metadata": {},
   "source": [
    "## Features importance"
   ]
  },
  {
   "cell_type": "code",
   "execution_count": 75,
   "metadata": {},
   "outputs": [
    {
     "data": {
      "image/png": "[encoded data removed]",
      "text/plain": [
       "<Figure size 576x360 with 1 Axes>"
      ]
     },
     "metadata": {
      "needs_background": "light"
     },
     "output_type": "display_data"
    }
   ],
   "source": [
    "df_train = pd.read_csv('../data/generated/train_eng.csv')\n",
    "\n",
    "feature_imp = pd.DataFrame(sorted(zip(neigh.feature_importances_,df_train.columns)), columns=['Value','Features'])\n",
    "\n",
    "plt.figure(figsize=(8, 5))\n",
    "plt.title('Feature Importances')\n",
    "sns.barplot(x=\"Value\", y=\"Features\", data=feature_imp.sort_values(by=\"Value\", ascending=False)[:20])\n",
    "plt.show()"
   ]
  },
  {
   "cell_type": "code",
   "execution_count": null,
   "metadata": {},
   "outputs": [],
   "source": []
  }
 ],
 "metadata": {
  "kernelspec": {
   "display_name": "Python 3",
   "language": "python",
   "name": "python3"
  },
  "language_info": {
   "codemirror_mode": {
    "name": "ipython",
    "version": 3
   },
   "file_extension": ".py",
   "mimetype": "text/x-python",
   "name": "python",
   "nbconvert_exporter": "python",
   "pygments_lexer": "ipython3",
   "version": "3.7.3"
  }
 },
 "nbformat": 4,
 "nbformat_minor": 2
}
