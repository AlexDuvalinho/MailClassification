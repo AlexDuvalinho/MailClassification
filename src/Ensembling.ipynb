{
 "cells": [
  {
   "cell_type": "code",
   "execution_count": 1,
   "metadata": {},
   "outputs": [],
   "source": [
    "import pandas as pd\n",
    "import numpy as np"
   ]
  },
  {
   "cell_type": "code",
   "execution_count": 2,
   "metadata": {},
   "outputs": [],
   "source": [
    "knn = pd.get_dummies(pd.read_csv('subs_ens/knn_submission.csv')['label'])\n",
    "nn = pd.get_dummies(pd.read_csv('subs_ens/submissionNN-2.csv')['label'])\n",
    "rf = pd.get_dummies(pd.read_csv('subs_ens/RF__submission.csv')['label'])\n",
    "lgbm = pd.get_dummies(pd.read_csv('subs_ens/submissionLGB.csv')['label'])\n",
    "xgboost = pd.get_dummies(pd.read_csv('subs_ens/submission_xgboost7.csv')['label'])"
   ]
  },
  {
   "cell_type": "markdown",
   "metadata": {},
   "source": [
    "Perform ensembling by summing result from models (taking in account some weights).\n",
    "In case of tie, the class prior will be used to determine the class to use :\n",
    "- class 0    0.374034\n",
    "- class 1    0.144082\n",
    "- class 2    0.192593\n",
    "- class 3    0.237882"
   ]
  },
  {
   "cell_type": "code",
   "execution_count": 3,
   "metadata": {},
   "outputs": [
    {
     "name": "stderr",
     "output_type": "stream",
     "text": [
      "/Users/seb/opt/anaconda3/envs/emailClass/lib/python3.7/site-packages/numpy/core/fromnumeric.py:61: FutureWarning: \n",
      "The current behaviour of 'Series.argmax' is deprecated, use 'idxmax'\n",
      "instead.\n",
      "The behavior of 'argmax' will be corrected to return the positional\n",
      "maximum in the future. For now, use 'series.values.argmax' or\n",
      "'np.argmax(np.array(values))' to get the position of the maximum\n",
      "row.\n",
      "  return bound(*args, **kwds)\n"
     ]
    }
   ],
   "source": [
    "def generateEnsemble(knn, nn, log, lgbm, xgboost, knn_w, nn_w, log_w, lgbm_w, xgboost_w):\n",
    "    df = knn_w * knn + nn_w * nn + log_w * log + lgbm_w * lgbm + xgboost_w * xgboost\n",
    "    #reorder column according to class priors\n",
    "    df = df[[0, 3, 2, 1]].astype(int)\n",
    "\n",
    "    #identify the max value and boost it by 1000\n",
    "    #so we can get back the column in correct order and apply a simple argmax\n",
    "    for index, row in df.head(5).iterrows():\n",
    "        row[np.argmax(row)] = 1000\n",
    "        df.iloc[index,:] = row\n",
    "        \n",
    "    #go back to initial order\n",
    "    df = df[[0, 1, 2, 3]]\n",
    "    \n",
    "    return np.argmax(df.values, axis=1)\n",
    "    \n",
    "r = generateEnsemble(knn, nn, rf, lgbm, xgboost, 0, 0, 1, 1, 1)\n",
    "pred_ens = pd.DataFrame(r, columns=['label'])\n",
    "pred_ens.to_csv('../data/generated/ens_all_noweights.csv', index=True, index_label='Id')\n",
    "\n",
    "#use the LB scores as weights\n",
    "r = generateEnsemble(knn, nn, rf, lgbm, xgboost, 0, 0.937, 0.955, 0.962, 0.96)\n",
    "pred_ens = pd.DataFrame(r, columns=['label'])\n",
    "pred_ens.to_csv('../data/generated/ens_all_weights.csv', index=True, index_label='Id')\n",
    "\n",
    "#exclude xgboost\n",
    "r = generateEnsemble(knn, nn, rf, lgbm, xgboost, 0, 1, 1, 1, 0)\n",
    "pred_ens = pd.DataFrame(r, columns=['label'])\n",
    "pred_ens.to_csv('../data/generated/ens_all_noxgboost.csv', index=True, index_label='Id')\n",
    "\n",
    "#exclude lgbm\n",
    "r = generateEnsemble(knn, nn, rf, lgbm, xgboost, 0, 1, 1, 0, 1)\n",
    "pred_ens = pd.DataFrame(r, columns=['label'])\n",
    "pred_ens.to_csv('../data/generated/ens_all_nolgbm.csv', index=True, index_label='Id')\n",
    "\n",
    "#exclude xgboost and weighted\n",
    "r = generateEnsemble(knn, nn, rf, lgbm, xgboost, 0.925, 0.937, 0.921, 0.962, 0)\n",
    "pred_ens = pd.DataFrame(r, columns=['label'])\n",
    "pred_ens.to_csv('../data/generated/ens_all_weights_noxgboost.csv', index=True, index_label='Id')\n",
    "\n",
    "#exclude lgbm and weighted\n",
    "r = generateEnsemble(knn, nn, rf, lgbm, xgboost, 0.925, 0.937, 0.921, 0, 0.96)\n",
    "pred_ens = pd.DataFrame(r, columns=['label'])\n",
    "pred_ens.to_csv('../data/generated/ens_all_weights_nolgbm.csv', index=True, index_label='Id')\n",
    "\n",
    "#lgbm & xgboost\n",
    "r = generateEnsemble(knn, nn, rf, lgbm, xgboost, 0, 0, 0, 1, 1)\n",
    "pred_ens = pd.DataFrame(r, columns=['label'])\n",
    "pred_ens.to_csv('../data/generated/ens_lgbm_xgboost.csv', index=True, index_label='Id')\n",
    "\n",
    "#lgbm & rf\n",
    "r = generateEnsemble(knn, nn, rf, lgbm, xgboost, 0, 0, 1, 1, 0)\n",
    "pred_ens = pd.DataFrame(r, columns=['label'])\n",
    "pred_ens.to_csv('../data/generated/ens_lgbm_rf.csv', index=True, index_label='Id')"
   ]
  },
  {
   "cell_type": "code",
   "execution_count": null,
   "metadata": {},
   "outputs": [],
   "source": []
  }
 ],
 "metadata": {
  "kernelspec": {
   "display_name": "Python 3",
   "language": "python",
   "name": "python3"
  },
  "language_info": {
   "codemirror_mode": {
    "name": "ipython",
    "version": 3
   },
   "file_extension": ".py",
   "mimetype": "text/x-python",
   "name": "python",
   "nbconvert_exporter": "python",
   "pygments_lexer": "ipython3",
   "version": "3.7.5"
  }
 },
 "nbformat": 4,
 "nbformat_minor": 2
}
